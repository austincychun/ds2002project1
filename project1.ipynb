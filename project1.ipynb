{
  "nbformat": 4,
  "nbformat_minor": 0,
  "metadata": {
    "colab": {
      "provenance": [],
      "authorship_tag": "ABX9TyOJYOcEjGHQ/kPhAXZm7PjU",
      "include_colab_link": true
    },
    "kernelspec": {
      "name": "python3",
      "display_name": "Python 3"
    },
    "language_info": {
      "name": "python"
    }
  },
  "cells": [
    {
      "cell_type": "markdown",
      "metadata": {
        "id": "view-in-github",
        "colab_type": "text"
      },
      "source": [
        "<a href=\"https://colab.research.google.com/github/dsong56/ds2002project1/blob/main/project1.ipynb\" target=\"_parent\"><img src=\"https://colab.research.google.com/assets/colab-badge.svg\" alt=\"Open In Colab\"/></a>"
      ]
    },
    {
      "cell_type": "markdown",
      "source": [
        "# Data Project 1:\n",
        "### Daniel Song (yen2pn)\n",
        "### Joshua Yu ()"
      ],
      "metadata": {
        "id": "vpwrauLqjvJ8"
      }
    },
    {
      "cell_type": "markdown",
      "source": [
        "Installing necessary packages"
      ],
      "metadata": {
        "id": "sfUh-yi6kOjg"
      }
    },
    {
      "cell_type": "code",
      "source": [
        "!pip install IMDbPY\n",
        "import pandas as pd\n",
        "import json\n",
        "import time\n",
        "import seaborn as sns\n",
        "import matplotlib.pyplot as plt\n",
        "import sqlite3\n",
        "from imdb import IMDb\n",
        "from scipy.stats import pearsonr"
      ],
      "metadata": {
        "colab": {
          "base_uri": "https://localhost:8080/"
        },
        "id": "y0VjEdvRkCsO",
        "outputId": "a2ddc1e9-7985-4568-99dc-0d66684f42a2"
      },
      "execution_count": 27,
      "outputs": [
        {
          "output_type": "stream",
          "name": "stdout",
          "text": [
            "Requirement already satisfied: IMDbPY in /usr/local/lib/python3.11/dist-packages (2022.7.9)\n",
            "Requirement already satisfied: cinemagoer in /usr/local/lib/python3.11/dist-packages (from IMDbPY) (2023.5.1)\n",
            "Requirement already satisfied: SQLAlchemy in /usr/local/lib/python3.11/dist-packages (from cinemagoer->IMDbPY) (2.0.39)\n",
            "Requirement already satisfied: lxml in /usr/local/lib/python3.11/dist-packages (from cinemagoer->IMDbPY) (5.3.1)\n",
            "Requirement already satisfied: greenlet!=0.4.17 in /usr/local/lib/python3.11/dist-packages (from SQLAlchemy->cinemagoer->IMDbPY) (3.1.1)\n",
            "Requirement already satisfied: typing-extensions>=4.6.0 in /usr/local/lib/python3.11/dist-packages (from SQLAlchemy->cinemagoer->IMDbPY) (4.12.2)\n"
          ]
        }
      ]
    },
    {
      "cell_type": "markdown",
      "source": [
        "Extracting data from IMDb"
      ],
      "metadata": {
        "id": "jAHZzg2JkUFH"
      }
    },
    {
      "cell_type": "code",
      "source": [
        "def fetch_ratings(title_year_pairs):\n",
        "    ia = IMDb()\n",
        "    ratings = {}\n",
        "\n",
        "    for title, year in title_year_pairs:\n",
        "        print(f\"🎬 Searching for: {title} ({year})\")\n",
        "        try:\n",
        "            results = ia.search_movie(title)\n",
        "            if results:\n",
        "                matched_movie = None\n",
        "                for movie in results:\n",
        "                    if 'year' in movie.keys() and movie['year'] == int(year):\n",
        "                        matched_movie = movie\n",
        "                        break\n",
        "\n",
        "                if matched_movie:\n",
        "                    ia.update(matched_movie)\n",
        "                    rating = matched_movie.get('rating')\n",
        "                    if rating:\n",
        "                        ratings[title] = rating\n",
        "                        print(f\"⭐ {title} ({year}): {rating}\")\n",
        "                    else:\n",
        "                        print(f\"⚠️ Rating not found for: {title} ({year})\")\n",
        "                else:\n",
        "                    print(f\"❌ No exact match for: {title} ({year})\")\n",
        "            else:\n",
        "                print(f\"❌ No search results for: {title}\")\n",
        "        except Exception as e:\n",
        "            print(f\"Error retrieving rating for {title}: {e}\")\n",
        "    return ratings"
      ],
      "metadata": {
        "id": "x0V-5jlbka3G"
      },
      "execution_count": 28,
      "outputs": []
    },
    {
      "cell_type": "markdown",
      "source": [
        "Cleaning and summarizing data"
      ],
      "metadata": {
        "id": "_dRKoT5IkfYh"
      }
    },
    {
      "cell_type": "code",
      "source": [
        "def summarize_data(df):\n",
        "    print(f\"Records: {len(df)}\")\n",
        "    print(f\"Columns: {list(df.columns)}\")\n",
        "    if 'IMDB_Score' in df.columns:\n",
        "        scores = pd.to_numeric(df['IMDB_Score'], errors='coerce').dropna()\n",
        "        if not scores.empty:\n",
        "            print(f\"IMDB Rating - Avg: {scores.mean():.2f}, Min: {scores.min()}, Max: {scores.max()}\")\n",
        "\n",
        "def clean_numeric_data(df):\n",
        "    df = df.copy()\n",
        "    df['BoxOffice'] = (\n",
        "        df['BoxOffice']\n",
        "        .astype(str)\n",
        "        .replace(r'[\\$,]', '', regex=True)\n",
        "        .replace('', '0')\n",
        "        .astype(float)\n",
        "    )\n",
        "    df['IMDB_Score'] = pd.to_numeric(df['IMDB_Score'], errors='coerce')\n",
        "    return df.dropna(subset=['BoxOffice', 'IMDB_Score'])\n",
        "\n",
        "def analyze_correlation(df):\n",
        "    correlation, p_value = pearsonr(df['IMDB_Score'], df['BoxOffice'])\n",
        "    print(f\"Correlation between IMDB rating and Box Office: {correlation:.2f}\")\n",
        "    print(f\"P-value: {p_value:.4f}\")\n",
        "    return correlation, p_value\n",
        "\n",
        "def summary_stats(df):\n",
        "    print(\"Descriptive Statistics:\")\n",
        "    print(df[['IMDB_Score', 'BoxOffice']].describe())\n",
        "\n",
        "def plot_rating_vs_boxoffice(df):\n",
        "    sns.set(style=\"whitegrid\")\n",
        "    plt.figure(figsize=(10, 6))\n",
        "    sns.scatterplot(data=df, x='IMDB_Score', y='BoxOffice')\n",
        "    plt.title('IMDB Rating vs Box Office Revenue')\n",
        "    plt.xlabel('IMDB Rating')\n",
        "    plt.ylabel('Box Office ($)')\n",
        "    plt.savefig(\"analysis_plot.png\")\n",
        "    plt.show()"
      ],
      "metadata": {
        "id": "iXKGHUk_k0dg"
      },
      "execution_count": 29,
      "outputs": []
    },
    {
      "cell_type": "markdown",
      "source": [
        "Output formatting"
      ],
      "metadata": {
        "id": "SB1r3tmBldQn"
      }
    },
    {
      "cell_type": "code",
      "source": [
        "output_format = input(\"Choose output format (csv/json/sql): \").strip().lower()"
      ],
      "metadata": {
        "colab": {
          "base_uri": "https://localhost:8080/"
        },
        "id": "wr82or1Ylc9M",
        "outputId": "ddde3f2c-8142-4354-ec39-ec0bba4d8e55"
      },
      "execution_count": 30,
      "outputs": [
        {
          "name": "stdout",
          "output_type": "stream",
          "text": [
            "Choose output format (csv/json/sql): sql\n"
          ]
        }
      ]
    },
    {
      "cell_type": "markdown",
      "source": [
        "Main function to call"
      ],
      "metadata": {
        "id": "TNe3KOGxk21Q"
      }
    },
    {
      "cell_type": "code",
      "execution_count": 32,
      "metadata": {
        "id": "k7O-o8aXgdYz",
        "colab": {
          "base_uri": "https://localhost:8080/",
          "height": 1000
        },
        "outputId": "c2e526a9-8a63-44b0-da32-463545fd690b",
        "collapsed": true
      },
      "outputs": [
        {
          "output_type": "stream",
          "name": "stdout",
          "text": [
            "Records: 8145\n",
            "Columns: ['Year', 'Title', 'BoxOffice']\n",
            "🎬 Searching for: Geostorm (2017)\n",
            "⭐ Geostorm (2017): 5.3\n",
            "🎬 Searching for: Death Note (2006)\n",
            "⭐ Death Note (2006): 8.9\n",
            "🎬 Searching for: The Medallion (2003)\n",
            "⭐ The Medallion (2003): 5.2\n",
            "🎬 Searching for: The Legend of Tarzan (2016)\n",
            "⭐ The Legend of Tarzan (2016): 6.2\n",
            "🎬 Searching for: The Crossing (2014)\n",
            "⭐ The Crossing (2014): 6.1\n",
            "🎬 Searching for: Love Lies Bleeding (2024)\n",
            "⭐ Love Lies Bleeding (2024): 6.6\n",
            "🎬 Searching for: Surrender (1987)\n",
            "⭐ Surrender (1987): 5.4\n",
            "🎬 Searching for: The Orphanage (2007)\n",
            "⭐ The Orphanage (2007): 7.4\n",
            "🎬 Searching for: Mute Witness (1995)\n",
            "⭐ Mute Witness (1995): 6.7\n",
            "🎬 Searching for: Let's Get Married (2015)\n",
            "⭐ Let's Get Married (2015): 5.6\n",
            "🎬 Searching for: Newsies (1992)\n",
            "⭐ Newsies (1992): 6.9\n",
            "🎬 Searching for: Leap! 2017 Re-release (2017)\n",
            "⭐ Leap! 2017 Re-release (2017): 7.3\n",
            "🎬 Searching for: Strange Days (1995)\n",
            "⭐ Strange Days (1995): 7.2\n",
            "🎬 Searching for: Surf Ninjas (1993)\n",
            "⭐ Surf Ninjas (1993): 5.1\n",
            "🎬 Searching for: Hangin' with the Homeboys (1991)\n",
            "⭐ Hangin' with the Homeboys (1991): 6.9\n",
            "🎬 Searching for: China Cry: A True Story (1990)\n",
            "⭐ China Cry: A True Story (1990): 6.7\n",
            "🎬 Searching for: Crazy Romance (2019)\n",
            "⭐ Crazy Romance (2019): 6.2\n",
            "🎬 Searching for: The Nativity Story (2006)\n",
            "⭐ The Nativity Story (2006): 6.8\n",
            "🎬 Searching for: Agora (2009)\n",
            "⭐ Agora (2009): 7.1\n",
            "🎬 Searching for: London Has Fallen (2016)\n",
            "⭐ London Has Fallen (2016): 5.9\n",
            "🎬 Searching for: First Kid (1996)\n",
            "⭐ First Kid (1996): 5.2\n",
            "🎬 Searching for: House of the Dead (2003)\n",
            "⭐ House of the Dead (2003): 2.1\n",
            "🎬 Searching for: Joy Ride (2001)\n",
            "⭐ Joy Ride (2001): 6.6\n",
            "🎬 Searching for: Death and the Maiden (1994)\n",
            "⭐ Death and the Maiden (1994): 7.2\n",
            "🎬 Searching for: Detective Chinatown (2015)\n",
            "⭐ Detective Chinatown (2015): 6.6\n",
            "🎬 Searching for: Ponette (1997)\n",
            "⭐ Ponette (1997): 7.6\n",
            "🎬 Searching for: The Eight Hundred (2020)\n",
            "⭐ The Eight Hundred (2020): 6.7\n",
            "🎬 Searching for: What's Love Got to Do with It? (2023)\n",
            "⚠️ Rating not found for: What's Love Got to Do with It? (2023)\n",
            "🎬 Searching for: The Public Eye (1992)\n",
            "⭐ The Public Eye (1992): 6.5\n",
            "🎬 Searching for: The Holdovers (2023)\n",
            "⭐ The Holdovers (2023): 7.9\n",
            "🎬 Searching for: Reno 911!: Miami (2007)\n",
            "⭐ Reno 911!: Miami (2007): 5.9\n",
            "🎬 Searching for: Wicked Little Letters (2024)\n",
            "⚠️ Rating not found for: Wicked Little Letters (2024)\n",
            "🎬 Searching for: For Love of the Game (1999)\n",
            "⭐ For Love of the Game (1999): 6.6\n",
            "🎬 Searching for: The Bride (1985)\n",
            "⭐ The Bride (1985): 5.4\n",
            "🎬 Searching for: The Immature (2011)\n",
            "⭐ The Immature (2011): 6.1\n",
            "🎬 Searching for: RoboCop 2 (1990)\n",
            "⭐ RoboCop 2 (1990): 5.8\n",
            "🎬 Searching for: Breakin' (1984)\n",
            "⭐ Breakin' (1984): 5.9\n",
            "🎬 Searching for: The Post (2017)\n",
            "⭐ The Post (2017): 7.2\n",
            "🎬 Searching for: Waiting for Guffman (1997)\n",
            "⚠️ Rating not found for: Waiting for Guffman (1997)\n",
            "🎬 Searching for: Young Guns II (1990)\n",
            "⭐ Young Guns II (1990): 6.5\n",
            "🎬 Searching for: Elizabethtown (2005)\n",
            "⭐ Elizabethtown (2005): 6.3\n",
            "🎬 Searching for: Mean Girls (2004)\n",
            "⭐ Mean Girls (2004): 7.1\n",
            "🎬 Searching for: Slacker (1991)\n",
            "❌ No exact match for: Slacker (1991)\n",
            "🎬 Searching for: Doug's 1st Movie (1999)\n",
            "⭐ Doug's 1st Movie (1999): 4.9\n",
            "🎬 Searching for: Sphere (1998)\n",
            "⭐ Sphere (1998): 6.1\n",
            "🎬 Searching for: Disorderlies (1987)\n",
            "⭐ Disorderlies (1987): 5.0\n",
            "🎬 Searching for: Rambo (2008)\n",
            "⭐ Rambo (2008): 7.0\n",
            "🎬 Searching for: Barfly (1987)\n",
            "⭐ Barfly (1987): 7.1\n",
            "🎬 Searching for: The Great Beauty (2013)\n",
            "⭐ The Great Beauty (2013): 7.7\n",
            "🎬 Searching for: The Lego Batman Movie (2017)\n",
            "⭐ The Lego Batman Movie (2017): 7.3\n",
            "🎬 Searching for: What Lies Beneath (2000)\n",
            "⭐ What Lies Beneath (2000): 6.6\n",
            "🎬 Searching for: Smooth Talk (1985)\n",
            "⭐ Smooth Talk (1985): 6.5\n",
            "🎬 Searching for: The Chosen: S4 Episodes 1-3 (2024)\n",
            "⚠️ Rating not found for: The Chosen: S4 Episodes 1-3 (2024)\n",
            "🎬 Searching for: Assassin's Creed (2016)\n",
            "⭐ Assassin's Creed (2016): 5.6\n",
            "🎬 Searching for: Boys on the Side (1995)\n",
            "⭐ Boys on the Side (1995): 6.5\n",
            "🎬 Searching for: One Night at McCool's (2001)\n",
            "⭐ One Night at McCool's (2001): 6.2\n",
            "🎬 Searching for: The Lego Movie 2: The Second Part (2019)\n",
            "⭐ The Lego Movie 2: The Second Part (2019): 6.5\n",
            "🎬 Searching for: Underworld: Evolution (2006)\n",
            "⭐ Underworld: Evolution (2006): 6.7\n",
            "🎬 Searching for: Entourage (2015)\n",
            "⭐ Entourage (2015): 6.5\n",
            "🎬 Searching for: What Planet Are You From? (2000)\n",
            "⭐ What Planet Are You From? (2000): 5.6\n",
            "🎬 Searching for: Krush Groove (1985)\n",
            "⭐ Krush Groove (1985): 6.4\n",
            "🎬 Searching for: The Morning After (1986)\n",
            "⭐ The Morning After (1986): 5.9\n",
            "🎬 Searching for: Honest Thief (2020)\n",
            "⭐ Honest Thief (2020): 6.0\n",
            "🎬 Searching for: Chimpanzee (2012)\n",
            "❌ No exact match for: Chimpanzee (2012)\n",
            "🎬 Searching for: The Puppet Masters (1994)\n",
            "⭐ The Puppet Masters (1994): 5.9\n",
            "🎬 Searching for: Better Off Dead (1985)\n",
            "⭐ Better Off Dead (1985): 7.1\n",
            "🎬 Searching for: The Pacifier (2005)\n",
            "⭐ The Pacifier (2005): 5.6\n",
            "🎬 Searching for: Miami Vice (2006)\n",
            "⭐ Miami Vice (2006): 6.1\n",
            "🎬 Searching for: Blues Brothers 2000 (1998)\n",
            "⭐ Blues Brothers 2000 (1998): 4.9\n",
            "🎬 Searching for: The Simpsons: Family Portrait/Beat Dedication/Propagandance/Scaredy Cat!/Rarg/Knick Knack/Pencil Dance/Quinoscopio 2/Umbabarauma/Goodnight Norma... Goodnight Milton.../Tin Toy/25 Ways to Quit Smoking (1989)\n",
            "❌ No search results for: The Simpsons: Family Portrait/Beat Dedication/Propagandance/Scaredy Cat!/Rarg/Knick Knack/Pencil Dance/Quinoscopio 2/Umbabarauma/Goodnight Norma... Goodnight Milton.../Tin Toy/25 Ways to Quit Smoking\n",
            "🎬 Searching for: The Amazing Panda Adventure (1995)\n",
            "⭐ The Amazing Panda Adventure (1995): 5.7\n",
            "🎬 Searching for: Blood Diamond (2006)\n",
            "⭐ Blood Diamond (2006): 8.0\n",
            "🎬 Searching for: Scandalous (1984)\n",
            "⭐ Scandalous (1984): 4.4\n",
            "🎬 Searching for: Family Business (1989)\n",
            "⭐ Family Business (1989): 5.7\n",
            "🎬 Searching for: Fast & Furious (2009)\n",
            "⭐ Fast & Furious (2009): 6.5\n",
            "🎬 Searching for: Iceman (1984)\n",
            "⭐ Iceman (1984): 6.1\n",
            "🎬 Searching for: Ready to Rumble (2000)\n",
            "⭐ Ready to Rumble (2000): 5.4\n",
            "🎬 Searching for: Apollo 18 (2011)\n",
            "⭐ Apollo 18 (2011): 5.2\n",
            "🎬 Searching for: The Legend of Bagger Vance (2000)\n",
            "⭐ The Legend of Bagger Vance (2000): 6.7\n",
            "🎬 Searching for: Born on the Fourth of July (1989)\n",
            "⭐ Born on the Fourth of July (1989): 7.2\n",
            "🎬 Searching for: Malibu's Most Wanted (2003)\n",
            "⭐ Malibu's Most Wanted (2003): 5.2\n",
            "🎬 Searching for: Dancing at Lughnasa (1998)\n",
            "⭐ Dancing at Lughnasa (1998): 6.3\n",
            "🎬 Searching for: The Lonely Guy (1984)\n",
            "⭐ The Lonely Guy (1984): 6.2\n",
            "🎬 Searching for: Surrogates (2009)\n",
            "⭐ Surrogates (2009): 6.3\n",
            "🎬 Searching for: Miraculous: Ladybug & Cat Noir, the Movie (2023)\n",
            "⭐ Miraculous: Ladybug & Cat Noir, the Movie (2023): 6.1\n",
            "🎬 Searching for: Heartbreaker (2010)\n",
            "⭐ Heartbreaker (2010): 6.7\n",
            "🎬 Searching for: New in Town (2009)\n",
            "⭐ New in Town (2009): 5.7\n",
            "🎬 Searching for: The Revenant (2015)\n",
            "⭐ The Revenant (2015): 8.0\n",
            "🎬 Searching for: Next of Kin (1989)\n",
            "⭐ Next of Kin (1989): 5.9\n",
            "🎬 Searching for: Married for 7 Years (2003)\n",
            "⭐ Married for 7 Years (2003): 5.9\n",
            "🎬 Searching for: My Country, My Parents (2021)\n",
            "⭐ My Country, My Parents (2021): 6.1\n",
            "🎬 Searching for: Ran (1985)\n",
            "⭐ Ran (1985): 8.2\n",
            "🎬 Searching for: Tower Heist (2011)\n",
            "⭐ Tower Heist (2011): 6.2\n",
            "🎬 Searching for: Shaun of the Dead (2004)\n",
            "⭐ Shaun of the Dead (2004): 7.9\n",
            "🎬 Searching for: Sole a catinelle (2013)\n",
            "⭐ Sole a catinelle (2013): 6.4\n",
            "🎬 Searching for: Umizaru 3: The Last Message (2010)\n",
            "⭐ Umizaru 3: The Last Message (2010): 5.9\n",
            "🎬 Searching for: Six Degrees of Celebration (2010)\n",
            "⭐ Six Degrees of Celebration (2010): 6.2\n",
            "🎬 Searching for: Harry and the Hendersons (1987)\n",
            "⭐ Harry and the Hendersons (1987): 6.1\n",
            "🎬 Searching for: Lage Raho Munna Bhai (2006)\n",
            "⭐ Lage Raho Munna Bhai (2006): 8.0\n",
            "🎬 Searching for: Fight Club (1999)\n",
            "⭐ Fight Club (1999): 8.8\n",
            "Records: 93\n",
            "Columns: ['Title', 'IMDB_Score']\n",
            "IMDB Rating - Avg: 6.36, Min: 2.1, Max: 8.9\n",
            "Records: 96\n",
            "Columns: ['Year', 'Title', 'BoxOffice', 'IMDB_Score']\n",
            "IMDB Rating - Avg: 6.37, Min: 2.1, Max: 8.9\n",
            "Descriptive Statistics:\n",
            "       IMDB_Score     BoxOffice\n",
            "count   96.000000  9.600000e+01\n",
            "mean     6.366667  7.125154e+07\n",
            "std      0.963510  1.027462e+08\n",
            "min      2.100000  1.678500e+04\n",
            "25%      5.900000  1.087664e+07\n",
            "50%      6.300000  2.969549e+07\n",
            "75%      6.900000  8.364509e+07\n",
            "max      8.900000  5.329505e+08\n",
            "Correlation between IMDB rating and Box Office: 0.17\n",
            "P-value: 0.1044\n"
          ]
        },
        {
          "output_type": "display_data",
          "data": {
            "text/plain": [
              "<Figure size 1000x600 with 1 Axes>"
            ],
            "image/png": "[encoded data removed]"
          },
          "metadata": {}
        },
        {
          "output_type": "stream",
          "name": "stdout",
          "text": [
            "✅ Saved output as SQLite DB: movies.db\n"
          ]
        }
      ],
      "source": [
        "def main():\n",
        "    # Load box office data\n",
        "    box_office_df = pd.read_csv('box_office.csv') # Change to csv filename\n",
        "    box_office_df.rename(columns={'Gross': 'BoxOffice'}, inplace=True)\n",
        "    summarize_data(box_office_df)\n",
        "\n",
        "    # Random sample of movies\n",
        "    movie_title_years = (\n",
        "        box_office_df[['Title', 'Year']]\n",
        "        .dropna()\n",
        "        .drop_duplicates()\n",
        "        .sample(n=100)    # Change the value of n to determine the number of movies collected\n",
        "        .values.tolist()\n",
        "    )\n",
        "\n",
        "    # Fetch ratings\n",
        "    ratings_dict = fetch_ratings(movie_title_years)\n",
        "\n",
        "    if not ratings_dict:\n",
        "        print(\"❌ No IMDB ratings were successfully scraped. Exiting.\")\n",
        "        return\n",
        "\n",
        "    # Create ratings dataframe\n",
        "    ratings_df = pd.DataFrame([\n",
        "        {'Title': title, 'IMDB_Score': score} for title, score in ratings_dict.items()\n",
        "    ])\n",
        "    summarize_data(ratings_df)\n",
        "\n",
        "    # Merge and clean\n",
        "    merged_df = pd.merge(box_office_df, ratings_df, on='Title', how='left')\n",
        "    clean_df = clean_numeric_data(merged_df)\n",
        "    summarize_data(clean_df)\n",
        "\n",
        "    summary_stats(clean_df)\n",
        "    analyze_correlation(clean_df)\n",
        "    plot_rating_vs_boxoffice(clean_df)\n",
        "\n",
        "    # Outputs\n",
        "    if output_format == \"json\":\n",
        "        clean_df.to_json(\"movies.json\", orient=\"records\", lines=True)\n",
        "        print(\"✅ Saved output as JSON: movies.json\")\n",
        "\n",
        "    elif output_format == \"csv\":\n",
        "        clean_df.to_csv(\"movies.csv\", index=False)\n",
        "        print(\"✅ Saved output as CSV: movies.csv\")\n",
        "\n",
        "    elif output_format == \"sql\":\n",
        "        conn = sqlite3.connect(\"movies.db\")\n",
        "        clean_df.to_sql(\"movies\", conn, if_exists=\"replace\", index=False)\n",
        "        conn.close()\n",
        "        print(\"✅ Saved output as SQLite DB: movies.db\")\n",
        "\n",
        "    else:\n",
        "        print(\"⚠️ Unknown format selected.\")\n",
        "\n",
        "\n",
        "if __name__ == '__main__':\n",
        "    main()\n"
      ]
    }
  ]
}