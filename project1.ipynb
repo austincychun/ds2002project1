{
  "nbformat": 4,
  "nbformat_minor": 0,
  "metadata": {
    "colab": {
      "provenance": [],
      "authorship_tag": "ABX9TyO/hjQbzIyItFmEba0jzKmU",
      "include_colab_link": true
    },
    "kernelspec": {
      "name": "python3",
      "display_name": "Python 3"
    },
    "language_info": {
      "name": "python"
    }
  },
  "cells": [
    {
      "cell_type": "markdown",
      "metadata": {
        "id": "view-in-github",
        "colab_type": "text"
      },
      "source": [
        "<a href=\"https://colab.research.google.com/github/dsong56/ds2002project1/blob/main/project1.ipynb\" target=\"_parent\"><img src=\"https://colab.research.google.com/assets/colab-badge.svg\" alt=\"Open In Colab\"/></a>"
      ]
    },
    {
      "cell_type": "markdown",
      "source": [
        "# Data Project 1:\n",
        "### Daniel Song (yen2pn)\n",
        "### Joshua Yu ()"
      ],
      "metadata": {
        "id": "vpwrauLqjvJ8"
      }
    },
    {
      "cell_type": "markdown",
      "source": [
        "Installing necessary packages"
      ],
      "metadata": {
        "id": "sfUh-yi6kOjg"
      }
    },
    {
      "cell_type": "code",
      "source": [
        "!pip install IMDbPY\n",
        "import pandas as pd\n",
        "import json\n",
        "import time\n",
        "import seaborn as sns\n",
        "import matplotlib.pyplot as plt\n",
        "import sqlite3\n",
        "from imdb import IMDb\n",
        "from scipy.stats import pearsonr"
      ],
      "metadata": {
        "colab": {
          "base_uri": "https://localhost:8080/"
        },
        "id": "y0VjEdvRkCsO",
        "outputId": "809f1372-2e50-4f05-9ef0-6bece5258862"
      },
      "execution_count": 14,
      "outputs": [
        {
          "output_type": "stream",
          "name": "stdout",
          "text": [
            "Requirement already satisfied: IMDbPY in /usr/local/lib/python3.11/dist-packages (2022.7.9)\n",
            "Requirement already satisfied: cinemagoer in /usr/local/lib/python3.11/dist-packages (from IMDbPY) (2023.5.1)\n",
            "Requirement already satisfied: SQLAlchemy in /usr/local/lib/python3.11/dist-packages (from cinemagoer->IMDbPY) (2.0.39)\n",
            "Requirement already satisfied: lxml in /usr/local/lib/python3.11/dist-packages (from cinemagoer->IMDbPY) (5.3.1)\n",
            "Requirement already satisfied: greenlet!=0.4.17 in /usr/local/lib/python3.11/dist-packages (from SQLAlchemy->cinemagoer->IMDbPY) (3.1.1)\n",
            "Requirement already satisfied: typing-extensions>=4.6.0 in /usr/local/lib/python3.11/dist-packages (from SQLAlchemy->cinemagoer->IMDbPY) (4.12.2)\n"
          ]
        }
      ]
    },
    {
      "cell_type": "markdown",
      "source": [
        "Extracting data from IMDb"
      ],
      "metadata": {
        "id": "jAHZzg2JkUFH"
      }
    },
    {
      "cell_type": "code",
      "source": [
        "def fetch_ratings(title_year_pairs):\n",
        "    ia = IMDb()\n",
        "    ratings = {}\n",
        "\n",
        "    for title, year in title_year_pairs:\n",
        "        print(f\"🎬 Searching for: {title} ({year})\")\n",
        "        try:\n",
        "            results = ia.search_movie(title)\n",
        "            if results:\n",
        "                matched_movie = None\n",
        "                for movie in results:\n",
        "                    if 'year' in movie.keys() and movie['year'] == int(year):\n",
        "                        matched_movie = movie\n",
        "                        break\n",
        "\n",
        "                if matched_movie:\n",
        "                    ia.update(matched_movie)\n",
        "                    rating = matched_movie.get('rating')\n",
        "                    if rating:\n",
        "                        ratings[title] = rating\n",
        "                        print(f\"⭐ {title} ({year}): {rating}\")\n",
        "                    else:\n",
        "                        print(f\"⚠️ Rating not found for: {title} ({year})\")\n",
        "                else:\n",
        "                    print(f\"❌ No exact match for: {title} ({year})\")\n",
        "            else:\n",
        "                print(f\"❌ No search results for: {title}\")\n",
        "        except Exception as e:\n",
        "            print(f\"Error retrieving rating for {title}: {e}\")\n",
        "    return ratings"
      ],
      "metadata": {
        "id": "x0V-5jlbka3G"
      },
      "execution_count": 15,
      "outputs": []
    },
    {
      "cell_type": "markdown",
      "source": [
        "Cleaning and summarizing data"
      ],
      "metadata": {
        "id": "_dRKoT5IkfYh"
      }
    },
    {
      "cell_type": "code",
      "source": [
        "def summarize_data(df):\n",
        "    print(f\"Records: {len(df)}\")\n",
        "    print(f\"Columns: {list(df.columns)}\")\n",
        "    if 'IMDB_Score' in df.columns:\n",
        "        scores = pd.to_numeric(df['IMDB_Score'], errors='coerce').dropna()\n",
        "        if not scores.empty:\n",
        "            print(f\"IMDB Rating - Avg: {scores.mean():.2f}, Min: {scores.min()}, Max: {scores.max()}\")\n",
        "\n",
        "def clean_numeric_data(df):\n",
        "    df = df.copy()\n",
        "    df['BoxOffice'] = (\n",
        "        df['BoxOffice']\n",
        "        .astype(str)\n",
        "        .replace(r'[\\$,]', '', regex=True)\n",
        "        .replace('', '0')\n",
        "        .astype(float)\n",
        "    )\n",
        "    df['IMDB_Score'] = pd.to_numeric(df['IMDB_Score'], errors='coerce')\n",
        "    return df.dropna(subset=['BoxOffice', 'IMDB_Score'])\n",
        "\n",
        "def analyze_correlation(df):\n",
        "    correlation, p_value = pearsonr(df['IMDB_Score'], df['BoxOffice'])\n",
        "    print(f\"Correlation between IMDB rating and Box Office: {correlation:.2f}\")\n",
        "    print(f\"P-value: {p_value:.4f}\")\n",
        "    return correlation, p_value\n",
        "\n",
        "def summary_stats(df):\n",
        "    print(\"Descriptive Statistics:\")\n",
        "    print(df[['IMDB_Score', 'BoxOffice']].describe())\n",
        "\n",
        "def plot_rating_vs_boxoffice(df):\n",
        "    sns.set(style=\"whitegrid\")\n",
        "    plt.figure(figsize=(10, 6))\n",
        "    sns.scatterplot(data=df, x='IMDB_Score', y='BoxOffice')\n",
        "    plt.title('IMDB Rating vs Box Office Revenue')\n",
        "    plt.xlabel('IMDB Rating')\n",
        "    plt.ylabel('Box Office ($)')\n",
        "    plt.savefig(\"analysis_plot.png\")\n",
        "    plt.show()"
      ],
      "metadata": {
        "id": "iXKGHUk_k0dg"
      },
      "execution_count": 16,
      "outputs": []
    },
    {
      "cell_type": "markdown",
      "source": [
        "Output formatting"
      ],
      "metadata": {
        "id": "SB1r3tmBldQn"
      }
    },
    {
      "cell_type": "code",
      "source": [
        "output_format = input(\"Choose output format (csv/json/sql): \").strip().lower()"
      ],
      "metadata": {
        "colab": {
          "base_uri": "https://localhost:8080/"
        },
        "id": "wr82or1Ylc9M",
        "outputId": "da36972e-895d-4fb7-8e49-a4f1b4dc044c"
      },
      "execution_count": 25,
      "outputs": [
        {
          "name": "stdout",
          "output_type": "stream",
          "text": [
            "Choose output format (csv/json/sql): csv\n"
          ]
        }
      ]
    },
    {
      "cell_type": "markdown",
      "source": [
        "Main function to call"
      ],
      "metadata": {
        "id": "TNe3KOGxk21Q"
      }
    },
    {
      "cell_type": "code",
      "execution_count": 26,
      "metadata": {
        "id": "k7O-o8aXgdYz",
        "colab": {
          "base_uri": "https://localhost:8080/",
          "height": 1000
        },
        "outputId": "4a456087-cba5-460a-e243-be5314f67e60",
        "collapsed": true
      },
      "outputs": [
        {
          "output_type": "stream",
          "name": "stdout",
          "text": [
            "Records: 8145\n",
            "Columns: ['Year', 'Title', 'BoxOffice']\n",
            "🎬 Searching for: Bloodsport (1988)\n",
            "⭐ Bloodsport (1988): 6.8\n",
            "🎬 Searching for: Breach (2007)\n",
            "⭐ Breach (2007): 7.0\n",
            "🎬 Searching for: Star Trek Into Darkness (2013)\n",
            "⭐ Star Trek Into Darkness (2013): 7.7\n",
            "Records: 3\n",
            "Columns: ['Title', 'IMDB_Score']\n",
            "IMDB Rating - Avg: 7.17, Min: 6.8, Max: 7.7\n",
            "Records: 3\n",
            "Columns: ['Year', 'Title', 'BoxOffice', 'IMDB_Score']\n",
            "IMDB Rating - Avg: 7.17, Min: 6.8, Max: 7.7\n",
            "Descriptive Statistics:\n",
            "       IMDB_Score     BoxOffice\n",
            "count    3.000000  3.000000e+00\n",
            "mean     7.166667  1.733751e+08\n",
            "std      0.472582  2.550197e+08\n",
            "min      6.800000  1.180612e+07\n",
            "25%      6.900000  2.638003e+07\n",
            "50%      7.000000  4.095394e+07\n",
            "75%      7.350000  2.541596e+08\n",
            "max      7.700000  4.673652e+08\n",
            "Correlation between IMDB rating and Box Office: 0.99\n",
            "P-value: 0.0993\n"
          ]
        },
        {
          "output_type": "display_data",
          "data": {
            "text/plain": [
              "<Figure size 1000x600 with 1 Axes>"
            ],
            "image/png": "[encoded data removed]"
          },
          "metadata": {}
        },
        {
          "output_type": "stream",
          "name": "stdout",
          "text": [
            "✅ Saved output as CSV: movies.csv\n"
          ]
        }
      ],
      "source": [
        "def main():\n",
        "    # Load box office data\n",
        "    box_office_df = pd.read_csv('box_office.csv') # Change to csv filename\n",
        "    box_office_df.rename(columns={'Gross': 'BoxOffice'}, inplace=True)\n",
        "    summarize_data(box_office_df)\n",
        "\n",
        "    # Random sample of movies\n",
        "    movie_title_years = (\n",
        "        box_office_df[['Title', 'Year']]\n",
        "        .dropna()\n",
        "        .drop_duplicates()\n",
        "        .sample(n=3)    # Change the value of n to determine the number of movies collected\n",
        "        .values.tolist()\n",
        "    )\n",
        "\n",
        "    # Fetch ratings\n",
        "    ratings_dict = fetch_ratings(movie_title_years)\n",
        "\n",
        "    if not ratings_dict:\n",
        "        print(\"❌ No IMDB ratings were successfully scraped. Exiting.\")\n",
        "        return\n",
        "\n",
        "    # Create ratings dataframe\n",
        "    ratings_df = pd.DataFrame([\n",
        "        {'Title': title, 'IMDB_Score': score} for title, score in ratings_dict.items()\n",
        "    ])\n",
        "    summarize_data(ratings_df)\n",
        "\n",
        "    # Merge and clean\n",
        "    merged_df = pd.merge(box_office_df, ratings_df, on='Title', how='left')\n",
        "    clean_df = clean_numeric_data(merged_df)\n",
        "    summarize_data(clean_df)\n",
        "\n",
        "    summary_stats(clean_df)\n",
        "    analyze_correlation(clean_df)\n",
        "    plot_rating_vs_boxoffice(clean_df)\n",
        "\n",
        "    # Outputs\n",
        "    if output_format == \"json\":\n",
        "        clean_df.to_json(\"movies.json\", orient=\"records\", lines=True)\n",
        "        print(\"✅ Saved output as JSON: movies.json\")\n",
        "\n",
        "    elif output_format == \"csv\":\n",
        "        clean_df.to_csv(\"movies.csv\", index=False)\n",
        "        print(\"✅ Saved output as CSV: movies.csv\")\n",
        "\n",
        "    elif output_format == \"sql\":\n",
        "        conn = sqlite3.connect(\"movies.db\")\n",
        "        clean_df.to_sql(\"movies\", conn, if_exists=\"replace\", index=False)\n",
        "        conn.close()\n",
        "        print(\"✅ Saved output as SQLite DB: movies.db\")\n",
        "\n",
        "    else:\n",
        "        print(\"⚠️ Unknown format selected.\")\n",
        "\n",
        "\n",
        "if __name__ == '__main__':\n",
        "    main()\n"
      ]
    }
  ]
}